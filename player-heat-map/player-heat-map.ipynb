{
 "cells": [
  {
   "cell_type": "code",
   "execution_count": 1,
   "id": "dress-baptist",
   "metadata": {},
   "outputs": [],
   "source": [
    "import numpy as np\n",
    "import pandas as pd\n",
    "import gmaps\n",
    "from dotenv import load_dotenv\n",
    "import os"
   ]
  },
  {
   "cell_type": "code",
   "execution_count": 2,
   "id": "criminal-pearl",
   "metadata": {},
   "outputs": [],
   "source": [
    "# Set API Key\n",
    "load_dotenv()\n",
    "API_KEY = os.getenv(\"API_KEY\")\n",
    "gmaps.configure(api_key=API_KEY)"
   ]
  },
  {
   "cell_type": "code",
   "execution_count": 3,
   "id": "single-mumbai",
   "metadata": {},
   "outputs": [],
   "source": [
    "# Read the data, pull out the columns we're interested in\n",
    "# Stupid notebook and its stupid pwd, need the '../'\n",
    "df = pd.read_csv('../assets/liu-player-data-lat-long.csv')\n",
    "df = df[['lat', 'long']]\n",
    "\n",
    "# This isn't necessary after all, since we set the center of the map later\n",
    "# df = df.loc[(df['lat'] >= 40) & (df['long'] >= -80)]\n",
    "\n",
    "# Make a stupid weight df, needed?\n",
    "df['weight'] = 1\n",
    "weights = df['weight']\n",
    "df = df[['lat', 'long']]"
   ]
  },
  {
   "cell_type": "code",
   "execution_count": 4,
   "id": "quick-penetration",
   "metadata": {},
   "outputs": [],
   "source": [
    "heatmap_layer = gmaps.heatmap_layer(df, weights, dissipating = True)"
   ]
  },
  {
   "cell_type": "code",
   "execution_count": 5,
   "id": "rolled-aggregate",
   "metadata": {},
   "outputs": [
    {
     "data": {
      "application/vnd.jupyter.widget-view+json": {
       "model_id": "3bb53b8881a4494cbd9b0b9173fd3df1",
       "version_major": 2,
       "version_minor": 0
      },
      "text/plain": [
       "Figure(layout=FigureLayout(height='420px'))"
      ]
     },
     "metadata": {},
     "output_type": "display_data"
    }
   ],
   "source": [
    "# set up parameters\n",
    "zoom=9.5\n",
    "intensity=5\n",
    "radius=10\n",
    "# setting the data and parameters\n",
    "heatmap_layer.max_intensity = intensity\n",
    "heatmap_layer.point_radius = radius\n",
    "\n",
    "# draw the heatmap into a figure\n",
    "fig = gmaps.figure()\n",
    "fig = gmaps.figure(center = [40.808173, -73.299366], zoom_level=zoom)\n",
    "fig.add_layer(heatmap_layer)\n",
    "fig"
   ]
  },
  {
   "cell_type": "code",
   "execution_count": 6,
   "id": "detected-highlight",
   "metadata": {},
   "outputs": [],
   "source": [
    "def draw_heat_map(df, weights, zoom, intensity, radius):\n",
    "    # API request with data\n",
    "    heatmap_layer = gmaps.heatmap_layer(df, weights, dissipating = True)\n",
    "    # setting the parameters\n",
    "    heatmap_layer.max_intensity = intensity\n",
    "    heatmap_layer.point_radius = radius\n",
    "\n",
    "    # draw the heatmap into a figure\n",
    "    fig = gmaps.figure()\n",
    "    fig = gmaps.figure(center = [40.808173, -73.299366], zoom_level=zoom)\n",
    "    fig.add_layer(heatmap_layer)\n",
    "    return fig\n",
    "\n",
    "# draw_heat_map(df, weights, zoom, intensity, radius)"
   ]
  }
 ],
 "metadata": {
  "kernelspec": {
   "display_name": "Python 3",
   "language": "python",
   "name": "python3"
  },
  "language_info": {
   "codemirror_mode": {
    "name": "ipython",
    "version": 3
   },
   "file_extension": ".py",
   "mimetype": "text/x-python",
   "name": "python",
   "nbconvert_exporter": "python",
   "pygments_lexer": "ipython3",
   "version": "3.8.2"
  }
 },
 "nbformat": 4,
 "nbformat_minor": 5
}
