{
 "cells": [
  {
   "cell_type": "code",
   "execution_count": 1,
   "id": "downtown-beverage",
   "metadata": {},
   "outputs": [],
   "source": [
    "import numpy as np\n",
    "import pandas as pd\n",
    "import googlemaps\n",
    "import gmaps\n",
    "from dotenv import load_dotenv\n",
    "import os"
   ]
  },
  {
   "cell_type": "code",
   "execution_count": 2,
   "id": "administrative-forwarding",
   "metadata": {},
   "outputs": [],
   "source": [
    "# Set API Key\n",
    "load_dotenv()\n",
    "API_KEY = os.getenv(\"API_KEY\")\n",
    "gm = googlemaps.Client(key=API_KEY)\n",
    "gmaps.configure(api_key=API_KEY)"
   ]
  },
  {
   "cell_type": "code",
   "execution_count": 3,
   "id": "minus-reduction",
   "metadata": {},
   "outputs": [],
   "source": [
    "df = pd.read_csv('assets/liu-player-data.csv')\n",
    "\n",
    "def geocode(query):\n",
    "    # do geocoding\n",
    "    try:\n",
    "        geocode_result = gm.geocode(query)[0]       \n",
    "        latitude = geocode_result['geometry']['location']['lat']\n",
    "        longitude = geocode_result['geometry']['location']['lng']\n",
    "        return latitude,longitude\n",
    "    except IndexError:\n",
    "        return 0\n",
    "\n",
    "def get_lat_long(x):\n",
    "    address = f\"{x['Address']}, {x['City']}, {x['State']}\"\n",
    "    result = geocode(address)\n",
    "    if result == 0:\n",
    "        address = f\"{x['City']}, {x['State']}\"\n",
    "        result = geocode(address)\n",
    "        if result == 0:\n",
    "            x['lat'] = None\n",
    "            x['long'] = None\n",
    "    x['lat'] = result[0]\n",
    "    x['long'] = result[1]\n",
    "#     x['lat'] = 0\n",
    "#     x['long'] = 1\n",
    "    return x\n",
    "\n",
    "df = df.apply(get_lat_long, axis=1)"
   ]
  },
  {
   "cell_type": "code",
   "execution_count": 4,
   "id": "underlying-holiday",
   "metadata": {},
   "outputs": [],
   "source": [
    "df.to_csv('assets/liu-player-data-lat-long.csv', index=False, mode='w', header=True)"
   ]
  }
 ],
 "metadata": {
  "kernelspec": {
   "display_name": "Python 3",
   "language": "python",
   "name": "python3"
  },
  "language_info": {
   "codemirror_mode": {
    "name": "ipython",
    "version": 3
   },
   "file_extension": ".py",
   "mimetype": "text/x-python",
   "name": "python",
   "nbconvert_exporter": "python",
   "pygments_lexer": "ipython3",
   "version": "3.8.2"
  }
 },
 "nbformat": 4,
 "nbformat_minor": 5
}
